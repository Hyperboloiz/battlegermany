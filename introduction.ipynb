{
 "cells": [
  {
   "cell_type": "markdown",
   "metadata": {
    "collapsed": true
   },
   "source": [
    "# Introduction / Business Problem"
   ]
  },
  {
   "cell_type": "markdown",
   "metadata": {},
   "source": [
    "The so-called \"bubble tea\" is gaining increasing popularity outside each asia in recent years. Originally the \"bubble\" in the name refers to the bubble resulted from blending black tea with ice and fruit syrups, but somehow it is mostly mistakenly understood as the tapioca or bobas as the topping in the drink. "
   ]
  },
  {
   "cell_type": "markdown",
   "metadata": {},
   "source": [
    "In Düsseldorf, Germany we have been running two commercially successful bubble tea stores for more than ten years. Düsseldorf is one of the biggest city of Germany and the japanese center amongst german cities and is hosting a large varieties of japanese companies, intitutions and a big japanese population. In the recent decade Chinese and Koreans have been inhabitating this german city with great atmosphere of asian culture. That explains partially the reason why our bubble tea stores are popular. Meanwhile it should be pointed out that the majority of customers are still german, mostly young generation of german and children. "
   ]
  },
  {
   "cell_type": "markdown",
   "metadata": {},
   "source": [
    "Now we have decided to expand our brand and to open more stores in Germany. All cities in Germany are under consideration. The core problem is to find a list of potential cities to open our store, where the business is more likely to succeed as we have experienced in Düsseldorf. We want to use data science to get a list to help our site search. "
   ]
  },
  {
   "cell_type": "code",
   "execution_count": null,
   "metadata": {},
   "outputs": [],
   "source": []
  }
 ],
 "metadata": {
  "kernelspec": {
   "display_name": "Python 3.7",
   "language": "python",
   "name": "python3"
  },
  "language_info": {
   "codemirror_mode": {
    "name": "ipython",
    "version": 3
   },
   "file_extension": ".py",
   "mimetype": "text/x-python",
   "name": "python",
   "nbconvert_exporter": "python",
   "pygments_lexer": "ipython3",
   "version": "3.7.9"
  }
 },
 "nbformat": 4,
 "nbformat_minor": 1
}
